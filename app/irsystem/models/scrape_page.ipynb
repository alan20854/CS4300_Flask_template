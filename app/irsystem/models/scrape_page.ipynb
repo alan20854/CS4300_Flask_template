{
 "cells": [
  {
   "cell_type": "code",
<<<<<<< HEAD
   "execution_count": 20,
   "metadata": {
    "collapsed": true
   },
=======
   "execution_count": 15,
   "metadata": {},
>>>>>>> aebe8a089ad065fcc2d5dc65a9c52d5add00d3da
   "outputs": [],
   "source": [
    "from bs4 import BeautifulSoup\n",
    "import requests\n",
    "from bs4.element import Comment\n",
    "import re\n",
    "from nltk.tokenize import word_tokenize\n",
    "import csv\n",
    "import json\n",
    "from sklearn.feature_extraction.text import TfidfVectorizer\n",
    "import numpy as np\n",
    "import pickle\n",
    "# import joblib\n",
    "import io"
   ]
  },
  {
   "cell_type": "code",
<<<<<<< HEAD
   "execution_count": 21,
   "metadata": {
    "collapsed": true
   },
=======
   "execution_count": 16,
   "metadata": {},
>>>>>>> aebe8a089ad065fcc2d5dc65a9c52d5add00d3da
   "outputs": [],
   "source": [
    "base_url = 'https://en.wikipedia.org'"
   ]
  },
  {
   "cell_type": "code",
<<<<<<< HEAD
   "execution_count": 22,
   "metadata": {
    "collapsed": true
   },
=======
   "execution_count": 17,
   "metadata": {},
>>>>>>> aebe8a089ad065fcc2d5dc65a9c52d5add00d3da
   "outputs": [],
   "source": [
    "# Get the links in the paragraphs for wikipedia URL\n",
    "def get_links_for_url(url):\n",
    "    url_title = url[url.rfind('wiki')+5:]\n",
    "    print(\"reading page: \" + url_title)\n",
    "    page = requests.get(url)\n",
    "    try:\n",
    "        soup = BeautifulSoup(page.text, \"html5lib\")\n",
    "        tags = soup.find_all('p')\n",
    "        res_links = []\n",
    "        for tag in tags:\n",
    "            links = tag.find_all('a', attrs={'href': re.compile(\"^/wiki/\")})\n",
    "            for link in links:\n",
    "                res_links.append(link.get('href'))\n",
    "        return res_links\n",
    "    except Exception as e:\n",
    "        print(\"Error loading page\")\n",
    "        return None\n",
    "        "
   ]
  },
  {
   "cell_type": "code",
<<<<<<< HEAD
   "execution_count": 23,
   "metadata": {
    "collapsed": true
   },
=======
   "execution_count": 18,
   "metadata": {},
>>>>>>> aebe8a089ad065fcc2d5dc65a9c52d5add00d3da
   "outputs": [],
   "source": [
    "# Get cleaned text in the paragraph for wikipedia URL\n",
    "def get_text_for_url(url):\n",
    "    url_title = url[url.rfind('wiki')+5:]\n",
    "    print(\"reading page: \" + url_title)\n",
    "    page = requests.get(url)\n",
    "    try:\n",
    "        soup = BeautifulSoup(page.text, \"html5lib\")\n",
    "        text = soup.find_all('p')\n",
    "        full_text = \"\"\n",
    "        num = 0\n",
    "        for t in text:\n",
    "            if num > 5:\n",
    "                break\n",
    "            if not t.find('img') and (t.name == 'p' or t.name == 'ul'):\n",
    "                text = str(t.getText().replace('\\n', ''))\n",
    "                full_text += re.sub(\"[\\(\\[].*?[\\)\\]]\", \"\", text) + \" \"\n",
    "                num += 1\n",
    "        return full_text\n",
    "    except Exception as e:\n",
    "        print(\"Error loading page\")\n",
    "        return None"
   ]
  },
  {
   "cell_type": "code",
   "execution_count": 7,
   "metadata": {},
   "outputs": [
    {
     "name": "stdout",
     "output_type": "stream",
     "text": [
      "reading page: Computer_science\n"
     ]
    },
    {
     "data": {
      "text/plain": [
       "['/wiki/Process_(engineering)',\n",
       " '/wiki/Data',\n",
       " '/wiki/Computer_program',\n",
       " '/wiki/Algorithm',\n",
       " '/wiki/Data_processing',\n",
       " '/wiki/Data_storage',\n",
       " '/wiki/Communication',\n",
       " '/wiki/Digital_data',\n",
       " '/wiki/Information',\n",
       " '/wiki/Computer_scientist',\n",
       " '/wiki/Theory_of_computation',\n",
       " '/wiki/Software_design',\n",
       " '/wiki/Software_system',\n",
       " '/wiki/Practical_disciplines',\n",
       " '/wiki/Computational_complexity_theory',\n",
       " '/wiki/Computer_graphics_(computer_science)',\n",
       " '/wiki/Programming_language_theory',\n",
       " '/wiki/Computer_programming',\n",
       " '/wiki/Programming_language',\n",
       " '/wiki/Complex_systems',\n",
       " '/wiki/Human%E2%80%93computer_interaction',\n",
       " '/wiki/Computer_accessibility',\n",
       " '/wiki/Digital_computer',\n",
       " '/wiki/Abacus',\n",
       " '/wiki/Algorithm',\n",
       " '/wiki/Wilhelm_Schickard',\n",
       " '/wiki/Mechanical_calculator',\n",
       " '/wiki/Gottfried_Leibniz',\n",
       " '/wiki/Stepped_Reckoner',\n",
       " '/wiki/Charles_Xavier_Thomas',\n",
       " '/wiki/Mechanical_calculator',\n",
       " '/wiki/Arithmometer',\n",
       " '/wiki/Charles_Babbage',\n",
       " '/wiki/Difference_Engine',\n",
       " '/wiki/Analytical_Engine',\n",
       " '/wiki/Jacquard_loom',\n",
       " '/wiki/Ada_Lovelace',\n",
       " '/wiki/Bernoulli_number',\n",
       " '/wiki/Herman_Hollerith',\n",
       " '/wiki/Tabulating_machine',\n",
       " '/wiki/Punched_card',\n",
       " '/wiki/IBM',\n",
       " '/wiki/Howard_H._Aiken',\n",
       " '/wiki/Harvard_Mark_I',\n",
       " '/wiki/Computing',\n",
       " '/wiki/Computation',\n",
       " '/wiki/IBM',\n",
       " '/wiki/Columbia_University',\n",
       " '/wiki/New_York_City',\n",
       " '/wiki/Cambridge_Diploma_in_Computer_Science',\n",
       " '/wiki/University_of_Cambridge',\n",
       " '/wiki/Cambridge_Computer_Lab',\n",
       " '/wiki/Purdue_University',\n",
       " '/wiki/IBM',\n",
       " '/wiki/Computing_technology',\n",
       " '/wiki/Ubiquitous',\n",
       " '/wiki/Electronics',\n",
       " '/wiki/Information_Age',\n",
       " '/wiki/Information_revolution',\n",
       " '/wiki/Industrial_Revolution',\n",
       " '/wiki/Neolithic_Revolution',\n",
       " '/wiki/Communications_of_the_ACM',\n",
       " '/wiki/Harvard_Business_School',\n",
       " '/wiki/Management_science',\n",
       " '/wiki/Numerical_analysis',\n",
       " '/wiki/George_Forsythe',\n",
       " '/wiki/Peter_Naur',\n",
       " '/wiki/Data_science',\n",
       " '/wiki/Multi-disciplinary',\n",
       " '/wiki/Epistemology',\n",
       " '/wiki/Slavic_languages',\n",
       " '/wiki/Hungarian_language',\n",
       " '/wiki/Greek_language',\n",
       " '/wiki/Informatics',\n",
       " '/wiki/Edsger_W._Dijkstra',\n",
       " '/wiki/Computer_engineering',\n",
       " '/wiki/Computer_system',\n",
       " '/wiki/Information_system',\n",
       " '/wiki/Cognitive_science',\n",
       " '/wiki/Computational_linguistics',\n",
       " '/wiki/Mathematics',\n",
       " '/wiki/Physics',\n",
       " '/wiki/Biology',\n",
       " '/wiki/Computational_statistics',\n",
       " '/wiki/Logic',\n",
       " '/wiki/Kurt_G%C3%B6del',\n",
       " '/wiki/Alan_Turing',\n",
       " '/wiki/R%C3%B3zsa_P%C3%A9ter',\n",
       " '/wiki/Alonzo_Church',\n",
       " '/wiki/Mathematical_logic',\n",
       " '/wiki/Category_theory',\n",
       " '/wiki/Domain_theory',\n",
       " '/wiki/Algebra',\n",
       " '/wiki/Software_engineer#Use_of_the_title_\"Engineer\"',\n",
       " '/wiki/David_Parnas',\n",
       " '/wiki/Computational_science',\n",
       " '/wiki/Peter_Wegner',\n",
       " '/wiki/Peter_J._Denning',\n",
       " '/wiki/Deductive_reasoning',\n",
       " '/wiki/Natural_science',\n",
       " '/wiki/Artificial_intelligence',\n",
       " '/wiki/CSAB_(professional_organization)',\n",
       " '/wiki/Association_for_Computing_Machinery',\n",
       " '/wiki/IEEE_Computer_Society',\n",
       " '/wiki/Peter_J._Denning',\n",
       " '/wiki/Computability_theory',\n",
       " '/wiki/Models_of_computation',\n",
       " '/wiki/Computational_complexity_theory',\n",
       " '/wiki/P_versus_NP_problem',\n",
       " '/wiki/Millennium_Prize_Problems',\n",
       " '/wiki/Claude_Shannon',\n",
       " '/wiki/Signal_processing',\n",
       " '/wiki/Code',\n",
       " '/wiki/Data_compression',\n",
       " '/wiki/Cryptography',\n",
       " '/wiki/Error_detection_and_correction',\n",
       " '/wiki/Linear_network_coding',\n",
       " '/wiki/Data_transmission',\n",
       " '/wiki/Programming_language',\n",
       " '/wiki/Programming_language#Elements',\n",
       " '/wiki/Mathematics',\n",
       " '/wiki/Linguistics',\n",
       " '/wiki/Mathematics',\n",
       " '/wiki/Formal_specification',\n",
       " '/wiki/Formal_verification',\n",
       " '/wiki/Computer_hardware',\n",
       " '/wiki/Life-critical_system',\n",
       " '/wiki/Computer_security',\n",
       " '/wiki/Theoretical_computer_science',\n",
       " '/wiki/Logic_in_computer_science',\n",
       " '/wiki/Formal_language',\n",
       " '/wiki/Automata_theory',\n",
       " '/wiki/Program_semantics',\n",
       " '/wiki/Type_systems',\n",
       " '/wiki/Algebraic_data_types',\n",
       " '/wiki/Throughput',\n",
       " '/wiki/Response_time_(technology)',\n",
       " '/wiki/Bottleneck_(software)',\n",
       " '/wiki/Benchmark_(computing)',\n",
       " '/wiki/Petri_net',\n",
       " '/wiki/Process_calculus',\n",
       " '/wiki/Parallel_random-access_machine',\n",
       " '/wiki/Cryptography',\n",
       " '/wiki/Database_model',\n",
       " '/wiki/Query_language',\n",
       " '/wiki/Computer_vision',\n",
       " '/wiki/Image_processing',\n",
       " '/wiki/Computational_geometry',\n",
       " '/wiki/Video_games',\n",
       " '/wiki/Scientific_computing',\n",
       " '/wiki/Computational_science',\n",
       " '/wiki/Scientific_modelling',\n",
       " '/wiki/Numerical_analysis',\n",
       " '/wiki/Science',\n",
       " '/wiki/Computer_simulation',\n",
       " '/wiki/Computation',\n",
       " '/wiki/Cybernetics',\n",
       " '/wiki/History_of_artificial_intelligence',\n",
       " '/wiki/Applied_mathematics',\n",
       " '/wiki/Mathematical_logic',\n",
       " '/wiki/Semiotics',\n",
       " '/wiki/Electrical_engineering',\n",
       " '/wiki/Philosophy_of_mind',\n",
       " '/wiki/Neurophysiology',\n",
       " '/wiki/Social_intelligence',\n",
       " '/wiki/Robotics',\n",
       " '/wiki/Software_development',\n",
       " '/wiki/Alan_Turing',\n",
       " '/wiki/Turing_test',\n",
       " '/wiki/William_J._Rapaport',\n",
       " '/wiki/Proceedings',\n",
       " '/wiki/Batch_processing',\n",
       " '/wiki/Punched_cards',\n",
       " '/wiki/Paper_tape',\n",
       " '/wiki/BBC_Model_B',\n",
       " '/wiki/Econet',\n",
       " '/wiki/O_level',\n",
       " '/wiki/A_level',\n",
       " '/wiki/National_Curriculum',\n",
       " '/wiki/United_States_of_America',\n",
       " '/wiki/Association_for_Computing_Machinery',\n",
       " '/wiki/Computer_Science_Teachers_Association',\n",
       " '/wiki/Institute_of_Electrical_and_Electronics_Engineers',\n",
       " '/wiki/Academic_journal',\n",
       " '/wiki/Malaysia',\n",
       " '/wiki/Guyana',\n",
       " '/wiki/Book:Computer_science',\n",
       " '/wiki/Wikipedia:Books']"
      ]
     },
     "execution_count": 7,
     "metadata": {},
     "output_type": "execute_result"
    }
   ],
   "source": [
    "links = get_links_for_url(base_url + '/wiki/Computer_science')\n",
    "links"
   ]
  },
  {
   "cell_type": "code",
   "execution_count": 8,
   "metadata": {},
   "outputs": [
    {
     "name": "stdout",
     "output_type": "stream",
     "text": [
      "reading page: Computer_science\n"
     ]
    },
    {
     "data": {
      "text/plain": [
       "' Computer science is the study of processes that interact with data and that can be represented as data in the form of programs. It enables the use of algorithms to manipulate, store, and communicate digital information. A computer scientist studies the theory of computation and the practice of designing software systems. Its fields can be divided into theoretical and practical disciplines. Computational complexity theory is highly abstract, while computer graphics emphasizes real-world applications. Programming language theory considers approaches to the description of computational processes, while computer programming itself involves the use of programming languages and complex systems. Human–computer interaction considers the challenges in making computers useful, usable, and accessible. The earliest foundations of what would become computer science predate the invention of the modern digital computer. Machines for calculating fixed numerical tasks such as the abacus have existed since antiquity, aiding in computations such as multiplication and division. Algorithms for performing computations have existed since antiquity, even before the development of sophisticated computing equipment. Wilhelm Schickard designed and constructed the first working mechanical calculator in 1623. In 1673, Gottfried Leibniz demonstrated a digital mechanical calculator, called the Stepped Reckoner. He may be considered the first computer scientist and information theorist, for, among other reasons, documenting the binary number system. In 1820, Thomas de Colmar launched the mechanical calculator industry when he released his simplified arithmometer, which was the first calculating machine strong enough and reliable enough to be used daily in an office environment. Charles Babbage started the design of the first automatic mechanical calculator, his Difference Engine, in 1822, which eventually gave him the idea of the first programmable mechanical calculator, his Analytical Engine. He started developing this machine in 1834, and \"in less than two years, he had sketched out many of the salient features of the modern computer\". \"A crucial step was the adoption of a punched card system derived from the Jacquard loom\" making it infinitely programmable. In 1843, during the translation of a French article on the Analytical Engine, Ada Lovelace wrote, in one of the many notes she included, an algorithm to compute the Bernoulli numbers, which is considered to be the first computer program. Around 1885, Herman Hollerith invented the tabulator, which used punched cards to process statistical information; eventually his company became part of IBM. In 1937, one hundred years after Babbage\\'s impossible dream, Howard Aiken convinced IBM, which was making all kinds of punched card equipment and was also in the calculator business to develop his giant programmable calculator, the ASCC/Harvard Mark I, based on Babbage\\'s Analytical Engine, which itself used cards and a central computing unit. When the machine was finished, some hailed it as \"Babbage\\'s dream come true\". During the 1940s, as new and more powerful computing machines were developed, the term computer came to refer to the machines rather than their human predecessors. As it became clear that computers could be used for more than just mathematical calculations, the field of computer science broadened to study computation in general. In 1945, IBM founded the Watson Scientific Computing Laboratory at Columbia University in New York City. The renovated fraternity house on Manhattan\\'s West Side was IBM\\'s first laboratory devoted to pure science. The lab is the forerunner of IBM\\'s Research Division, which today operates research facilities around the world. Ultimately, the close relationship between IBM and the university was instrumental in the emergence of a new scientific discipline, with Columbia offering one of the first academic-credit courses in computer science in 1946. Computer science began to be established as a distinct academic discipline in the 1950s and early 1960s. The world\\'s first computer science degree program, the Cambridge Diploma in Computer Science, began at the University of Cambridge Computer Laboratory in 1953. The first computer science degree program in the United States was formed at Purdue University in 1962. Since practical computers became available, many applications of computing have become distinct areas of study in their own rights. '"
      ]
     },
     "execution_count": 8,
     "metadata": {},
     "output_type": "execute_result"
    }
   ],
   "source": [
    "text = get_text_for_url(base_url + '/wiki/Computer_science')\n",
    "text"
   ]
  },
  {
   "cell_type": "code",
<<<<<<< HEAD
   "execution_count": 24,
   "metadata": {
    "collapsed": true
   },
=======
   "execution_count": 19,
   "metadata": {},
>>>>>>> aebe8a089ad065fcc2d5dc65a9c52d5add00d3da
   "outputs": [],
   "source": [
    "def reduce(u, v):\n",
    "    return (u[0].union(v[0]), u[1] + v[1])\n",
    "\n",
    "def clean_text(text):\n",
    "    if text is None:\n",
    "        return None\n",
    "    regex = re.compile('[^a-zA-Z ]')\n",
    "    text = regex.sub(' ', text)\n",
    "    tokenized_text = word_tokenize(text.lower())\n",
    "    return tokenized_text\n",
    "\n",
    "\n",
    "def clean_text_for_vectorizer(text):\n",
    "    if text is None:\n",
    "        return None\n",
    "    regex = re.compile('[^a-zA-Z ]')\n",
    "    text = regex.sub(' ', text)\n",
    "    return text.lower()"
   ]
  },
  {
   "cell_type": "code",
<<<<<<< HEAD
   "execution_count": 25,
   "metadata": {
    "collapsed": true
   },
=======
   "execution_count": 20,
   "metadata": {},
>>>>>>> aebe8a089ad065fcc2d5dc65a9c52d5add00d3da
   "outputs": [],
   "source": [
    "def generate_representation_for_course_description(course_description, branching_factor, search_depth, representation):\n",
    "    '''\n",
    "    course_description: [str], string of text description for a course\n",
    "    branching_factor: float, in range(0, 1), what percentage of the links we want to traverse at each step\n",
    "    search_depth: the maximum depth of link traversals starting from an original word in the course_description\n",
    "    \n",
    "    Returns: (links, representation)\n",
    "    '''\n",
    "    course_description\n",
    "    res = (set(), \"\")\n",
    "    explored_urls = set()\n",
    "    for word in course_description:\n",
    "        url = '/wiki/' + word\n",
    "        res = reduce(res, generate_representation_for_word(explored_urls, url, branching_factor, search_depth, \"\"))\n",
    "    return res\n",
    "    \n",
    "    \n",
    "\n",
    "def generate_representation_for_word(explored_urls, url, branching_factor, search_depth, representation):\n",
    "    '''\n",
    "    explored_urls: set, of urls that have already been explored\n",
    "    url: the url we wish to find the wikipedia article on, \n",
    "    if word is multiple words, it will appear as /wiki/computer_science, /wiki/computer_graphics, etc\n",
    "    branching_factor: float, in range(0, 1), which percentage of the links we want to traverse at each step\n",
    "    search_depth: int, the maximum depth of link traversals starting from word\n",
    "    \n",
    "    return: (links, represenation)\n",
    "    links: list of strings\n",
    "    representation: string\n",
    "    '''\n",
    "    if search_depth == 0 or url in explored_urls:\n",
    "        return (set(), \"\")\n",
    "    explored_urls.add(url)\n",
    "    links = get_links_for_url(base_url + url)\n",
    "    if links is None: # Only if the url is not valid\n",
    "        return (explored_urls, representation)\n",
    "    text = get_text_for_url(base_url + url)\n",
    "    representation += \" \" + text\n",
    "    next_links = links[:min(8, int(branching_factor * len(links)))]\n",
    "    \n",
    "    res = (explored_urls, representation)\n",
    "    for link in next_links:\n",
    "        res = reduce(res, generate_representation_for_word(explored_urls, link, branching_factor, search_depth - 1, \"\"))\n",
    "        \n",
    "    return res"
   ]
  },
  {
   "cell_type": "code",
   "execution_count": null,
   "metadata": {
    "collapsed": true
   },
   "outputs": [],
   "source": [
    "rep_for_cs_course = generate_representation_for_course_description([\"Computer_science\", \"biology\"], 0.05, 2, \"\")"
   ]
  },
  {
   "cell_type": "code",
   "execution_count": null,
   "metadata": {
    "collapsed": true
   },
   "outputs": [],
   "source": [
    "rep_for_cs_course"
   ]
  },
  {
   "cell_type": "code",
   "execution_count": null,
   "metadata": {
    "collapsed": true
   },
   "outputs": [],
   "source": [
    "#rep_for_Computer_science = generate_representation_for_word(set(), '/wiki/Computer_science', 0.05, 2, \"\")\n",
    "# rep_for_Computer_science"
   ]
  },
  {
   "cell_type": "code",
   "execution_count": null,
   "metadata": {
    "collapsed": true
   },
   "outputs": [],
   "source": []
  },
  {
   "cell_type": "code",
<<<<<<< HEAD
   "execution_count": 26,
   "metadata": {
    "collapsed": true
   },
=======
   "execution_count": 21,
   "metadata": {},
>>>>>>> aebe8a089ad065fcc2d5dc65a9c52d5add00d3da
   "outputs": [],
   "source": [
    "with io.open(\"../../../data/courseroster/full_json.json\", encoding=\"utf-8\") as f:\n",
    "    cornell_course_descriptions = json.load(f)"
   ]
  },
  {
   "cell_type": "code",
<<<<<<< HEAD
   "execution_count": 27,
=======
   "execution_count": 22,
>>>>>>> aebe8a089ad065fcc2d5dc65a9c52d5add00d3da
   "metadata": {},
   "outputs": [
    {
     "data": {
      "text/plain": [
<<<<<<< HEAD
       "dict_keys(['TOX', 'AIIS', 'ENGL', 'MGMT', 'BME', 'LAW', 'FDSC', 'SINHA', 'GRAD', 'BIOMS', 'HADM', 'NBAY', 'EAS', 'PHYS', 'BIOEE', 'NAVS', 'ASIAN', 'HEBRW', 'IARD', 'HE', 'NRE', 'COLLS', 'PLBIO', 'ROMAN', 'BIOAP', 'DUTCH', 'COMM', 'TECH', 'ILRIC', 'COGST', 'ORIE', 'PE', 'KOREA', 'NBA', 'SWAHL', 'GOVT', 'JWST', 'ANSC', 'AEP', 'BIONB', 'TAMIL', 'NEPAL', 'AMST', 'ECON', 'AEM', 'VIEN', 'ENTOM', 'ANTHR', 'ITAL', 'FREN', 'PLPPM', 'STS', 'CS', 'MEDVL', 'HIST', 'LATA', 'PLSCS', 'SYSEN', 'JPLIT', 'ENGRD', 'NS', 'HINDI', 'ILRID', 'URDU', 'VETCS', 'VISST', 'INDO', 'IM', 'ENGRI', 'CHIN', 'ASRC', 'PLBRG', 'SHUM', 'THAI', 'WOLOF', 'ENGRC', 'PSYCH', 'CAPS', 'LSP', 'SPAN', 'AIRS', 'BIOMG', 'ARTH', 'VETMM', 'VIET', 'LING', 'WRIT', 'STSCI', 'ENGRG', 'JAPAN', 'ENMGT', 'MATH', 'LA', 'ARAB', 'ROMS', 'LGBT', 'PUNJB', 'CHLIT', 'MAE', 'SOC', 'ALS', 'RELST', 'AAS', 'ILRLE', 'NSE', 'FSAD', 'ZULU', 'ILRST', 'FGSS', 'PORT', 'PADM', 'GREEK', 'PMA', 'KHMER', 'MILS', 'VTBMS', 'POLSH', 'NCC', 'TURK', 'ILRHR', 'VTPMD', 'TIBET', 'NES', 'LEAD', 'ESS', 'RUSSL', 'CRP', 'BSOC', 'PHIL', 'ART', 'BEE', 'RUSSA', 'ARCH', 'ELSO', 'BIOG', 'BPRE', 'SNLIT', 'HD', 'DEA', 'ASTRO', 'PALI', 'BTRY', 'ILRLR', 'CEE', 'PLSCI', 'BURM', 'EDUC', 'GERST', 'PERSN', 'LATIN', 'ARKEO', 'CHEM', 'CHEME', 'BENGL', 'PLHRT', 'DSOC', 'SANSK', 'VTMED', 'NMI', 'ILROB', 'VETMI', 'YORUB', 'MSE', 'ECE', 'NACCT', 'CLASS', 'NTRES', 'AGSCI', 'TAG', 'PAM', 'INFO', 'BIOMI', 'CZECH', 'COML', 'MUSIC'])"
      ]
     },
     "execution_count": 27,
=======
       "dict_keys(['CS', 'INDO', 'TIBET', 'BIOG', 'ZULU', 'PHYS', 'DSOC', 'VIET', 'BTRY', 'SNLIT', 'MGMT', 'LA', 'ASIAN', 'RELST', 'STS', 'ENGRD', 'HD', 'PMA', 'AMST', 'BIOMS', 'PE', 'PAM', 'FSAD', 'HE', 'ARTH', 'PERSN', 'AEP', 'BIOMI', 'ESS', 'ORIE', 'PLBRG', 'MILS', 'NSE', 'NBAY', 'CHIN', 'DEA', 'BIONB', 'JAPAN', 'NEPAL', 'NBA', 'ROMS', 'MATH', 'HEBRW', 'ARKEO', 'PLBIO', 'ILRLE', 'ENMGT', 'ILRHR', 'SPAN', 'GERST', 'POLSH', 'VTPMD', 'NAVS', 'PLHRT', 'VISST', 'ALS', 'PLSCI', 'CHLIT', 'TOX', 'LEAD', 'JWST', 'TURK', 'CAPS', 'CLASS', 'PALI', 'BEE', 'LGBT', 'FGSS', 'NACCT', 'PHIL', 'ITAL', 'RUSSA', 'BIOMG', 'ASRC', 'SINHA', 'ANTHR', 'NES', 'PORT', 'GRAD', 'IM', 'CZECH', 'ENTOM', 'PUNJB', 'WOLOF', 'MEDVL', 'JPLIT', 'BSOC', 'EDUC', 'ENGRI', 'CHEM', 'LAW', 'AIRS', 'ILRLR', 'ARCH', 'PSYCH', 'HINDI', 'LATA', 'CHEME', 'ECE', 'HIST', 'NMI', 'DUTCH', 'VTBMS', 'ARAB', 'BURM', 'SANSK', 'BPRE', 'LATIN', 'ENGRG', 'SHUM', 'VETMI', 'ENGRC', 'ECON', 'URDU', 'TECH', 'VIEN', 'ILRID', 'CRP', 'THAI', 'ANSC', 'BME', 'BIOAP', 'LSP', 'ILRIC', 'NRE', 'FDSC', 'VTMED', 'ILROB', 'EAS', 'COML', 'LING', 'KHMER', 'KOREA', 'YORUB', 'GREEK', 'COGST', 'ENGL', 'FREN', 'ELSO', 'SOC', 'AIIS', 'PADM', 'MAE', 'NCC', 'ROMAN', 'COLLS', 'VETCS', 'NTRES', 'CEE', 'RUSSL', 'HADM', 'COMM', 'MSE', 'GOVT', 'TAG', 'IARD', 'MUSIC', 'AAS', 'ASTRO', 'INFO', 'PLSCS', 'AEM', 'WRIT', 'VETMM', 'TAMIL', 'ART', 'SYSEN', 'AGSCI', 'NS', 'STSCI', 'ILRST', 'SWAHL', 'BIOEE', 'PLPPM', 'BENGL'])"
      ]
     },
     "execution_count": 22,
>>>>>>> aebe8a089ad065fcc2d5dc65a9c52d5add00d3da
     "metadata": {},
     "output_type": "execute_result"
    }
   ],
   "source": [
    "cornell_course_descriptions.keys()"
   ]
  },
  {
   "cell_type": "code",
   "execution_count": 28,
   "metadata": {},
   "outputs": [
    {
     "data": {
      "text/plain": [
       "{'courseLength': None,\n",
       " 'courseNumber': '1110',\n",
       " 'courseTitle': 'Introduction to Computing Using Python',\n",
       " 'crosslisted': [],\n",
       " 'description': 'Programming and problem solving using Python. Emphasizes principles of software development, style, and testing. Topics include procedures and functions, iteration, recusion, arrays and vectors, strings, an operational model of procedure and function calls, algorithms, exceptions, object-oriented programming, and GUIs (graphical user interfaces). Weekly labs provide guided practice on the computer, with staff present to help. Assignments use graphics and GUIs to help develop fluency and understanding.',\n",
       " 'offered': ['Fall', 'Spring', 'Summer'],\n",
       " 'outcomes': ' Be fluent in the use of procedural statements -assignments, conditional statements, loops, method calls- and  arrays. Be able to design, code, and test small Python programs that meet requirements expressed in English. This includes a basic understanding of top-down design. Understand the concepts of object-oriented programming as used in Python: classes, subclasses, inheritance, and overriding. Have knowledge of basic searching and sorting algorithms. Have knowledge of the basics of vector computation.',\n",
       " 'prerequisite': 'Assumes basic high school mathematics (no calculus) but no programming experience.',\n",
       " 'professor': ['Anne Bracy'],\n",
       " 'subject': 'CS',\n",
       " 'url': 'https://classes.cornell.edu/browse/roster/FA19/class/CS/1110'}"
      ]
     },
     "execution_count": 28,
     "metadata": {},
     "output_type": "execute_result"
    }
   ],
   "source": [
    "cornell_course_descriptions['CS'][0]"
   ]
  },
  {
   "cell_type": "code",
<<<<<<< HEAD
   "execution_count": 29,
   "metadata": {
    "collapsed": true
   },
=======
   "execution_count": 23,
   "metadata": {},
>>>>>>> aebe8a089ad065fcc2d5dc65a9c52d5add00d3da
   "outputs": [],
   "source": [
    "corpus = []\n",
    "course_codes = []\n",
    "all_major_courses = [cornell_course_descriptions[key] for key in cornell_course_descriptions.keys()]\n",
    "all_courses = []\n",
    "for major_courses in all_major_courses:\n",
    "    all_courses += major_courses\n",
    "\n",
    "for i, course_data in enumerate(all_courses):\n",
    "    course_number = course_data['courseNumber']\n",
    "    course_title = course_data['courseTitle']\n",
    "    course_desc = course_data['description']\n",
    "    cleaned_course_desc = clean_text_for_vectorizer(course_desc)\n",
    "    if cleaned_course_desc != None and cleaned_course_desc != []: \n",
    "        corpus.append(cleaned_course_desc)\n",
    "        course_codes.append(course_data['subject'] + ' ' + course_number)\n",
    "    course_outcome = None\n",
    "    try:\n",
    "        course_outcome = course_data['outcome']\n",
    "    except Exception as e:\n",
    "        course_outcome = \"\""
   ]
  },
  {
   "cell_type": "code",
   "execution_count": null,
   "metadata": {
    "collapsed": true
   },
   "outputs": [],
   "source": []
  },
  {
   "cell_type": "code",
   "execution_count": 30,
   "metadata": {},
   "outputs": [
    {
     "name": "stdout",
     "output_type": "stream",
     "text": [
      "4341\n",
      "the course will describe the system by which molecules move up the system to actually become a product and the myriad pitfalls that can end a products development early in the process and very late in the process of development \n",
      "4341\n"
     ]
    }
   ],
   "source": [
    "print(len(corpus))\n",
    "print(corpus[4000])\n",
    "print(len(course_codes))"
   ]
  },
  {
   "cell_type": "code",
<<<<<<< HEAD
   "execution_count": 31,
   "metadata": {},
   "outputs": [
    {
     "name": "stdout",
     "output_type": "stream",
     "text": [
      "(4341, 8812)\n"
     ]
    }
   ],
=======
   "execution_count": null,
   "metadata": {},
   "outputs": [],
>>>>>>> aebe8a089ad065fcc2d5dc65a9c52d5add00d3da
   "source": [
    "vectorizer = TfidfVectorizer(lowercase= True, stop_words='english', max_df=0.7, min_df = 2, smooth_idf=True)\n",
    "X = vectorizer.fit_transform(corpus)\n",
    "print(X.shape)\n",
    "doc_by_vocab = vectorizer.fit_transform([d for d in corpus]).toarray()"
   ]
  },
  {
   "cell_type": "code",
   "execution_count": 32,
   "metadata": {
    "collapsed": true
   },
   "outputs": [],
   "source": [
    "def get_top_n_tfidf_terms_from_text(vectorizer, text, n):\n",
    "    print(\"S\")\n",
    "    if text is None:\n",
    "        return []\n",
    "    feature_array = np.array(vectorizer.get_feature_names())\n",
    "    transformed_text = vectorizer.transform([text])\n",
    "    tfidf_sorting = np.argsort(transformed_text.toarray()).flatten()[::-1]\n",
    "    k = len(text.split())\n",
    "    top_n = feature_array[tfidf_sorting][:min(k, n)]\n",
    "    return top_n\n",
    "\n",
    "def get_top_n_important_terms_from_text(vectorizer, text, n):\n",
    "    pass\n",
    "    "
   ]
  },
  {
   "cell_type": "code",
   "execution_count": 33,
   "metadata": {},
   "outputs": [
    {
     "name": "stdout",
     "output_type": "stream",
     "text": [
      "S\n",
      "['server' 'php' 'info' 'database' 'client' 'creation' 'web' 'site' 'ajax'\n",
      " 'querying' 'viewer' 'usability' 'mysql' 'javascript' 'language']\n"
     ]
    }
   ],
   "source": [
    "cs4110 = \"Introduction to the design of systems programs, with emphasis on multiprogrammed operating systems. Topics include concurrency, synchronization, deadlocks, memory management, protection, input-output methods, networking, file systems and security. The impact of network and distributed computing environments on operating systems is also discussed.\"\n",
    "cs2300 = \"Web programming requires the cooperation of two machines: the one in front of the viewer (client) and the one delivering the content (server). INFO 1300 concentrates almost exclusively on the client side. The main emphasis in INFO 2300 is learning about server side processing. Students begin with a short overview of the PHP server-side scripting language, then look at interactions with databases, learning about querying via the database language SQL. Through a succession of projects, students learn how to apply this understanding to the creation of an interactive, data-driven site via PHP and the MYSQL database. Also considered are technologies such as Javascript and Ajax and techniques to enhance security and privacy. Design and usability issues are emphasized. A major component of the course is the creation of a substantial web site.\"\n",
    "cs2110 = \"Intermediate programming in a high-level language and introduction to computer science. Topics include object-oriented programming (classes, objects, subclasses, types), graphical user interfaces, algorithm analysis (asymptotic complexity, big O notation), recursion, testing, program correctness (loop invariants), searching/sorting, data structures (lists, trees, stacks, queues, heaps, search trees, hash tables, graphs), graph algorithms. Java is the principal programming language.\"\n",
    "psych1101 = \"This course provides an introduction to the science of the mind.  Everyone knows what it's like to think and perceive, but this subjective experience provides little insight into how minds emerge from physical intities like brains.  To address this issue, cognitive science integrates work from at least five disciplines: Psychology, Neuroscience, Computer Science, Linguistics, and Philosophy.  This course introduces students to the insights these disciplines offer into the workings of the mind by exploring visual perception, attention, memory, learning, problem solving, language, and consciousness.\"\n",
    "math2940 = \"linear algebra and its applications  topics include matrices  determinants  vector spaces  eigenvalues and eigenvectors  orthogonality and inner product spaces  applications include brief introductions to difference equations  markov chains  and systems of linear ordinary differential equations  may include computer use in solving problems\"\n",
    "\n",
    "print(get_top_n_tfidf_terms_from_text(vectorizer, clean_text_for_vectorizer(cs2300), 15))"
   ]
  },
  {
   "cell_type": "code",
   "execution_count": 34,
   "metadata": {},
   "outputs": [
    {
     "name": "stdout",
     "output_type": "stream",
     "text": [
      "(1, 8812)\n",
      "[1165 1845 1906  407 2460 4239 1626  488 2437 1911 2845 2611 4235  274\n",
      "  688]\n",
      "web programming requires the cooperation of two machines  the one in front of the viewer  client  and the one delivering the content  server   info      concentrates almost exclusively on the client side  the main emphasis in info      is learning about server side processing  students begin with a short overview of the php server side scripting language  then look at interactions with databases  learning about querying via the database language sql  through a succession of projects  students learn how to apply this understanding to the creation of an interactive  data driven site via php and the mysql database  also considered are technologies such as javascript and ajax and techniques to enhance security and privacy  design and usability issues are emphasized  a major component of the course is the creation of a substantial web site \n",
      "\n",
      "\n",
      "web programming requires the cooperation of two machines  the one in front of the viewer  client  and the one delivering the content  server   info      concentrates almost exclusively on the client side  the main emphasis in info      is learning about server side processing  students begin with a short overview of the php server side scripting language  then look at interactions with databases  learning about querying via the database language sql  through a succession of projects  students learn how to apply this understanding to the creation of an interactive  data driven site via php and the mysql database  also considered are technologies such as javascript and ajax and techniques to enhance security and privacy  design and usability issues are emphasized  a major component of the course is the creation of a substantial web site \n",
      "\n",
      "\n",
      "the world wide web is both a technology and a pervasive and powerful resource in our society and culture  to build functional and effective web sites  students need technical and design skills as well as analytical skills for understanding who is using the web  in what ways they are using it  and for what purposes  in this course  students develop skills in all three of these areas through the use of technologies such as xhtml  cascading stylesheets  and php  students study how web sites are deployed and used  usability issues on the web  user centered design  and methods for visual layout and information architecture  through the web  this course provides an introduction to the interdisciplinary field of information science \n",
      "\n",
      "\n",
      "prepares students to create and manage information in a knowledge based organization  students learn to design and use database tools  to perform analyses and to make decisions in today s information rich business environment  the course provides both theoretical and practical perspectives of database design and administration  with a focus on application  to manage this balance  students first gain a foundation of database concepts from lecture and course readings  and subsequently apply these fundamentals through various projects and assignments  topics include information and information management in organizations  fundamentals of relational database design and implementation  writing and running sql queries  working in database design teams and as individual research analysts  database design and management using microsoft access  database normalization  data driven decision making  conversion of data into information and knowledge that can be leveraged to achieve business objectives  the role of data and information management in contemporary society  and data management opportunities in the hospitality industry \n",
      "\n",
      "\n",
      "using relational databases in statistical computing has become more and more important  the knowledge and skill of database management and the ability to combine this knowledge and skill with statistical analysis software tools  such as sas  are a critical qualification of a statistical analyst  in this course we will study    the basics of modern relational database management systems  including database analysis  design and implementation     database application in advanced sas programming and     sas high performance computing using database related techniques \n",
      "\n",
      "\n",
      "in this workshop style course  students will work in teams to complete a semester long project  students will gain practical experience applying the design and coding principles introduced in info      and info      as well as human computer interactions methods from info       inactive   from the project  students will experience the entire process of taking an idea and turning that idea into a working web app  students will conduct user research  design a user interface  build a working prototype  and conduct user testing for their project  the course will have a significant software development focus  exposing students to software development methods and tools  like event based programming  git work flows  basic command line usage  and debugging \n",
      "\n",
      "\n",
      "introduces the principals and functions of relational database management systems  dbms  and their business application  students will explore both logical and physical database designs and develop a clear understanding of the concepts and terminology related to dbms  a small relational database will be designed and students will learn to run sql queries  students will learn a set of skills to describe what happened in the past using queries  descriptive statistics  data visualization  and some data mining techniques  excel add ins and other dbms software may also be employed \n",
      "\n",
      "\n",
      "this is a crash course in how software works and what it can do  it covers the basics of programming  databases  and web applications  there is a strong emphasis on learning by doing and the course includes weekly programming assignments in python \n",
      "\n",
      "\n",
      "the first part of the course teaches basic python programming knowledge and skills  the second part deals with python application in statistics  e g   data visualization and statistical analysis   python database integration  e g   access  update and control an oracle database   and python web services  e g   database driven dynamic webpages using python cgi scripts   these techniques are utilized in a comprehensive course project \n",
      "\n",
      "\n",
      "students build part of a database system in java \n",
      "\n",
      "\n",
      "this   week seminar course will focus on writing for policy and professional audiences in public affairs  this course is particularly directed at first year students in the mpa program who plan to complete a professional report to meet the mpa degree writing requirement  students will evaluate the worth of a research project for a client organization  and develop a research proposal  project management workplan  and literature review for their proposed project   students can choose to develop a proposal for their internship client organization  or another client organization  this can be a hypothetical client  a past consulting client  or a prospective internship client organization  \n",
      "\n",
      "\n",
      "this course exposes students to the fundamentals of site engineering and its relationship to best environmental practices   lectures and short studio projects are provided to students and  worked through  within the class period   these projects deal with site grading  earthwork estimating  storm water management  site surveys  site layout  and essential associated professional skills \n",
      "\n",
      "\n",
      "study of topics not currently covered in info offerings  as determined by faculty and student interest \n",
      "\n",
      "\n",
      "the newest addition to cornell law school s clinical programs  the estate planning clinic aims to provide students with the unique opportunity of enriching and furthering their legal awareness and experience beyond the classroom environment participants will gain valuable  practical experience by assisting people from the local community with some of their more basic estate planning needs  thereby applying their theoretical knowledge to real world scenarios  the students  best skills will be put to practice while they work towards creating an atmosphere of trust and comfort for their clients and learning the essentials of establishing solid attorney client relationships  specifically  students will be working in pairs under supervision of faculty to prepare an actual estate plan for the client which includes a last will and testament  a living will  a health care proxy and a power of attorney along with the statutory major gifts rider  if applicable   students will take part in the entire estate planning process from the initial informational intake meeting  to the preparation of the client s estate planning documents  to discussing the drafts with the clients along with addressing their comments and changes and to preparing and assisting with the execution of the client s estate planning documents  to further enhance the learning experience  lectures will be provided on the fundamentals of estate planning from establishing a healthy attorney client relationship  drafting considerations for the client s last will and testament  basic related estate and income tax issues  ethical issues and the administration of the client s estate upon death  the classroom component of the course ensures that students understand not only the legal issues but also the practical and human issues involved in a trusts and estates practice \n",
      "\n",
      "\n",
      "this course presents theories of language teaching and learning  and shows how they apply to asian language course structure  classroom instruction  and assessment techniques   students will observe classes taught by experienced teachers  discuss language learning theory and practice  and design and implement their own class activities  \n",
      "\n",
      "\n"
     ]
    }
   ],
   "source": [
    "from sklearn.metrics.pairwise import cosine_similarity\n",
    "test_x = vectorizer.transform([cs2300])\n",
    "print(test_x.shape)\n",
    "\n",
    "res = cosine_similarity(X, test_x).flatten()\n",
    "top_res = np.argsort(res)[::-1]\n",
    "print(top_res[0:15])    \n",
    "for res in top_res[0:15]:\n",
    "    print(corpus[res])\n",
    "    print(\"\\n\")"
   ]
  },
  {
   "cell_type": "code",
   "execution_count": 36,
   "metadata": {
    "collapsed": true
   },
   "outputs": [],
   "source": [
    "pickle.dump(vectorizer, open(\"vectorizer.pkl\", \"wb\"))\n",
    "pickle.dump(X, open(\"tdm.pkl\", \"wb\"))\n",
    "#pickle.dump(corpus, open(\"corpus.pkl\", \"wb\"))\n",
    "pickle.dump(course_codes, open(\"course_codes.pkl\", \"wb\"))"
   ]
  },
  {
   "cell_type": "code",
   "execution_count": null,
   "metadata": {
    "collapsed": true
   },
   "outputs": [],
   "source": [
    "major_codes = list(cornell_course_descriptions.keys())\n",
    "print(major_codes)\n",
    "all_courses = []\n",
    "for major_code in major_codes:\n",
    "    for course_data in cornell_course_descriptions[major_code]:\n",
    "        all_courses.append(course_data)\n",
    "print(len(all_courses))"
   ]
  },
  {
   "cell_type": "code",
   "execution_count": null,
   "metadata": {
    "collapsed": true
   },
   "outputs": [],
   "source": [
    "course_representations = {}\n",
    "for course_data in all_courses:\n",
    "    course_number = course_data['courseNumber']\n",
    "    dept = course_data['subject']\n",
    "    course_desc = course_data['description']\n",
    "    cleaned_course_desc = clean_text_for_vectorizer(course_desc)\n",
    "    print(course_number)\n",
    "    print(course_desc)\n",
    "    print(cleaned_course_desc)\n",
    "    top_tfidf_words = get_top_n_tfidf_terms_from_text(vectorizer, cleaned_course_desc, 20)\n",
    "    print(top_tfidf_words)\n",
    "    course_representation = ' '.join(top_tfidf_words)\n",
    "    course_representations[dept + ' ' +str(course_number)] = course_representation\n",
    "    print(course_representation)\n",
    "    print(\"************************\")"
   ]
  },
  {
   "cell_type": "code",
   "execution_count": null,
   "metadata": {
    "collapsed": true
   },
   "outputs": [],
   "source": [
    "course_representations['CS 3410']"
   ]
  },
  {
   "cell_type": "code",
   "execution_count": null,
   "metadata": {
    "collapsed": true
   },
   "outputs": [],
   "source": [
    "pickle.dump(course_representations, open(\"all_courses_20_tfidf_representations.p\", \"wb\" ) )"
   ]
  },
  {
   "cell_type": "code",
   "execution_count": null,
   "metadata": {
    "collapsed": true
   },
   "outputs": [],
   "source": [
    "tag_json = {'tags': []}\n",
    "added_tags = []\n",
    "for major in cornell_course_descriptions.keys():\n",
    "    major_desc = \"\"\n",
    "    for course_data in cornell_course_descriptions[major]:\n",
    "        if course_data['description'] != None:\n",
    "            major_desc += \" \" + clean_text_for_vectorizer(course_data['description'])\n",
    "    top_tfidf_words = get_top_n_tfidf_terms_from_text(vectorizer, major_desc, 50)\n",
    "    if major == \"CS\":\n",
    "        print(top_tfidf_words)\n",
    "#     print(top_tfidf_words)\n",
    "    for word in top_tfidf_words:\n",
    "        if word not in added_tags:\n",
    "            tag_json['tags'].append({'tag': word})\n",
    "            added_tags.append(word)\n",
    "# print (tag_json['tags'])"
   ]
  },
  {
   "cell_type": "code",
   "execution_count": null,
   "metadata": {
    "collapsed": true
   },
   "outputs": [],
   "source": [
    "json.dump(tag_json, open( \"tag_json.txt\", \"w\" ) )"
   ]
  },
  {
   "cell_type": "code",
   "execution_count": null,
   "metadata": {
    "collapsed": true
   },
   "outputs": [],
   "source": []
  }
 ],
 "metadata": {
  "kernelspec": {
   "display_name": "Python 3",
   "language": "python",
   "name": "python3"
  },
  "language_info": {
   "codemirror_mode": {
    "name": "ipython",
    "version": 3
   },
   "file_extension": ".py",
   "mimetype": "text/x-python",
   "name": "python",
   "nbconvert_exporter": "python",
   "pygments_lexer": "ipython3",
   "version": "3.6.3"
  }
 },
 "nbformat": 4,
 "nbformat_minor": 2
}
